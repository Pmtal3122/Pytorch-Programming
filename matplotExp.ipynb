{
 "cells": [
  {
   "cell_type": "code",
   "execution_count": 11,
   "metadata": {},
   "outputs": [],
   "source": [
    "import numpy as np\n",
    "import matplotlib.pyplot as plt"
   ]
  },
  {
   "cell_type": "code",
   "execution_count": 12,
   "metadata": {},
   "outputs": [],
   "source": [
    "W = np.linspace(-10, 10, 5)\n",
    "B = np.linspace(-15, 15, 5)"
   ]
  },
  {
   "cell_type": "code",
   "execution_count": 13,
   "metadata": {},
   "outputs": [
    {
     "data": {
      "text/plain": [
       "array([-10.,  -5.,   0.,   5.,  10.])"
      ]
     },
     "execution_count": 13,
     "metadata": {},
     "output_type": "execute_result"
    }
   ],
   "source": [
    "W"
   ]
  },
  {
   "cell_type": "code",
   "execution_count": 14,
   "metadata": {},
   "outputs": [
    {
     "data": {
      "text/plain": [
       "array([-15. ,  -7.5,   0. ,   7.5,  15. ])"
      ]
     },
     "execution_count": 14,
     "metadata": {},
     "output_type": "execute_result"
    }
   ],
   "source": [
    "B"
   ]
  },
  {
   "cell_type": "code",
   "execution_count": 16,
   "metadata": {},
   "outputs": [
    {
     "data": {
      "text/plain": [
       "array([[-10.,  -5.,   0.,   5.,  10.],\n",
       "       [-10.,  -5.,   0.,   5.,  10.],\n",
       "       [-10.,  -5.,   0.,   5.,  10.],\n",
       "       [-10.,  -5.,   0.,   5.,  10.],\n",
       "       [-10.,  -5.,   0.,   5.,  10.]])"
      ]
     },
     "execution_count": 16,
     "metadata": {},
     "output_type": "execute_result"
    }
   ],
   "source": [
    "w, b = np.meshgrid(W, B)\n",
    "w"
   ]
  },
  {
   "cell_type": "code",
   "execution_count": 17,
   "metadata": {},
   "outputs": [
    {
     "data": {
      "text/plain": [
       "array([[-15. , -15. , -15. , -15. , -15. ],\n",
       "       [ -7.5,  -7.5,  -7.5,  -7.5,  -7.5],\n",
       "       [  0. ,   0. ,   0. ,   0. ,   0. ],\n",
       "       [  7.5,   7.5,   7.5,   7.5,   7.5],\n",
       "       [ 15. ,  15. ,  15. ,  15. ,  15. ]])"
      ]
     },
     "execution_count": 17,
     "metadata": {},
     "output_type": "execute_result"
    }
   ],
   "source": [
    "b"
   ]
  },
  {
   "cell_type": "code",
   "execution_count": 19,
   "metadata": {},
   "outputs": [
    {
     "name": "stdout",
     "output_type": "stream",
     "text": [
      "[array([[-10.,  -5.,   0.,   5.,  10.],\n",
      "       [-10.,  -5.,   0.,   5.,  10.],\n",
      "       [-10.,  -5.,   0.,   5.,  10.],\n",
      "       [-10.,  -5.,   0.,   5.,  10.],\n",
      "       [-10.,  -5.,   0.,   5.,  10.]]), array([[-15. , -15. , -15. , -15. , -15. ],\n",
      "       [ -7.5,  -7.5,  -7.5,  -7.5,  -7.5],\n",
      "       [  0. ,   0. ,   0. ,   0. ,   0. ],\n",
      "       [  7.5,   7.5,   7.5,   7.5,   7.5],\n",
      "       [ 15. ,  15. ,  15. ,  15. ,  15. ]])]\n"
     ]
    }
   ],
   "source": [
    "print(np.meshgrid(W, B))"
   ]
  },
  {
   "cell_type": "code",
   "execution_count": 23,
   "metadata": {},
   "outputs": [
    {
     "name": "stdout",
     "output_type": "stream",
     "text": [
      "-10.0 -15.0\n",
      "-5.0 -15.0\n",
      "0.0 -15.0\n",
      "5.0 -15.0\n",
      "10.0 -15.0\n",
      "-10.0 -7.5\n",
      "-5.0 -7.5\n",
      "0.0 -7.5\n",
      "5.0 -7.5\n",
      "10.0 -7.5\n",
      "-10.0 0.0\n",
      "-5.0 0.0\n",
      "0.0 0.0\n",
      "5.0 0.0\n",
      "10.0 0.0\n",
      "-10.0 7.5\n",
      "-5.0 7.5\n",
      "0.0 7.5\n",
      "5.0 7.5\n",
      "10.0 7.5\n",
      "-10.0 15.0\n",
      "-5.0 15.0\n",
      "0.0 15.0\n",
      "5.0 15.0\n",
      "10.0 15.0\n"
     ]
    }
   ],
   "source": [
    "for w1,b1 in zip(w,b):\n",
    "    for w2, b2 in zip(w1, b1):\n",
    "        print(w2, b2)    "
   ]
  }
 ],
 "metadata": {
  "kernelspec": {
   "display_name": "Python 3",
   "language": "python",
   "name": "python3"
  },
  "language_info": {
   "codemirror_mode": {
    "name": "ipython",
    "version": 3
   },
   "file_extension": ".py",
   "mimetype": "text/x-python",
   "name": "python",
   "nbconvert_exporter": "python",
   "pygments_lexer": "ipython3",
   "version": "3.11.5"
  }
 },
 "nbformat": 4,
 "nbformat_minor": 2
}
